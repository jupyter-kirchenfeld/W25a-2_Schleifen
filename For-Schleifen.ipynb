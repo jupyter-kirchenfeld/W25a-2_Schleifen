{
 "cells": [
  {
   "cell_type": "markdown",
   "id": "05cc0135",
   "metadata": {},
   "source": [
    "Before you turn this problem in, make sure everything runs as expected. First, **restart the kernel** (in the menubar, select Kernel$\\rightarrow$Restart) and then **run all cells** (in the menubar, select Cell$\\rightarrow$Run All).\n",
    "\n",
    "Make sure you fill in any place that says `YOUR CODE HERE` or \"YOUR ANSWER HERE\", as well as your name and collaborators below:"
   ]
  },
  {
   "cell_type": "code",
   "execution_count": null,
   "id": "50c9323c",
   "metadata": {},
   "outputs": [],
   "source": [
    "NAME = \"\"\n",
    "COLLABORATORS = \"\""
   ]
  },
  {
   "cell_type": "markdown",
   "id": "0c0265e7",
   "metadata": {},
   "source": [
    "---"
   ]
  },
  {
   "cell_type": "markdown",
   "id": "67f0d611",
   "metadata": {
    "deletable": false,
    "editable": false,
    "nbgrader": {
     "cell_type": "markdown",
     "checksum": "070b8e4a8c6014f3530eda8d275f1d8a",
     "grade": false,
     "grade_id": "cell-367ba5adba0059fc",
     "locked": true,
     "schema_version": 3,
     "solution": false,
     "task": false
    }
   },
   "source": [
    "# Schleifen\n",
    "\n",
    "## Die `for`-Schleife\n",
    "\n",
    "Schleifen werden dann eingesetzt, wenn gewisse Anweisungen wiederholt – also mehrfach hintereinander ausgeführt – werden müssen. Die `for`-Schleife eignet sich besonders, wenn die Anzahl der Wiederholungen\n",
    "\n",
    "- vorgegeben ist (also z.B. fünf mal den selben Code ausführen),\n",
    "- in einem bestimmten Zahlenbereich liegt (z.B. alle Zahlen von 1 - 9 quadrieren und ausgeben) oder\n",
    "- von der Anzahl Elemente in einer Liste abhängt (z.B. alle Zahlen in der Liste [1, 17, 400, 33, 5] addieren).\n",
    "\n",
    "Hier behandeln wir nur die ersten beiden Fälle. Wie Schleifen im Zusammenhang mit Listen verwendet werden, findet ihr im Kapitel Listen.\n",
    "\n",
    "## `range()`\n",
    "\n",
    "Im Zusammenhang mit `for`-Schleifen werden wir immer wieder die `range()` Methode sehen. Deshalb werden wir diese hier genauer erläutern und untersuchen bevor wir uns den `for`-Schleifen zuwenden.\n",
    "\n",
    "### Definition\n",
    "\n",
    "Die Funktion `range()` gibt eine Folge von Zahlen zurück, die bei 0 beginnt (standardmäßig), um 1 erhöht wird (standardmäßig) und vor einer bestimmten Zahl endet.\n",
    "\n",
    "### Syntax\n",
    "\n",
    "Die Funktion `range()` hat folgende Syntax\n",
    "\n",
    "`range(start, stop, step)`\n",
    "\n",
    "Schauen wir uns kurz die Parameter etwas genauer an:\n",
    "\n",
    "| Parameter | Notwendig? | Beschreibung | Standard |\n",
    "| --- | --- | --- | --- |\n",
    "| start | **Optional**. | Eine ganzzahlige Zahl, die angibt, an welcher Position begonnen werden soll. | 0|\n",
    "| stop | **Erforderlich**. | Eine ganzzahlige Zahl, die angibt, an welcher Position angehalten werden soll **(nicht enthalten)**.| - |\n",
    "| step |  **Optional**. | Eine ganzzahlige Zahl, die die Zunahme angibt. | 1 | \n",
    "\n",
    "\n",
    "### Beispiel:"
   ]
  },
  {
   "cell_type": "code",
   "execution_count": null,
   "id": "d1c987be",
   "metadata": {
    "deletable": false,
    "editable": false,
    "nbgrader": {
     "cell_type": "code",
     "checksum": "e8f453c44c2082bb29dda5264e76ab69",
     "grade": false,
     "grade_id": "cell-ad5e282704b49657",
     "locked": true,
     "schema_version": 3,
     "solution": false,
     "task": false
    }
   },
   "outputs": [],
   "source": [
    "for zahl in range(6):\n",
    "    print(zahl)"
   ]
  },
  {
   "cell_type": "markdown",
   "id": "e0cca431",
   "metadata": {
    "deletable": false,
    "editable": false,
    "nbgrader": {
     "cell_type": "markdown",
     "checksum": "2429ea5f106aeb5cecc1100ea065f060",
     "grade": false,
     "grade_id": "cell-98801eadb8daa22a",
     "locked": true,
     "schema_version": 3,
     "solution": false,
     "task": false
    }
   },
   "source": [
    "### Aufgabe:\n",
    "\n",
    "Führe das vorherige Beispiel aus und beschreibe es in deinen Worten in der nächsten Zelle (YOUR ANSWER HERE)"
   ]
  },
  {
   "cell_type": "markdown",
   "id": "b440d454",
   "metadata": {
    "deletable": false,
    "nbgrader": {
     "cell_type": "markdown",
     "checksum": "7772c07a3bd36aefe96be2d388a056bf",
     "grade": true,
     "grade_id": "cell-24c46c9d82f2fb68",
     "locked": false,
     "points": 0,
     "schema_version": 3,
     "solution": true,
     "task": false
    }
   },
   "source": [
    "YOUR ANSWER HERE"
   ]
  },
  {
   "cell_type": "markdown",
   "id": "1c34fd33",
   "metadata": {
    "deletable": false,
    "editable": false,
    "nbgrader": {
     "cell_type": "markdown",
     "checksum": "fe0f4c7d04842aa607f776f09421f715",
     "grade": false,
     "grade_id": "cell-96f1558647a010e0",
     "locked": true,
     "schema_version": 3,
     "solution": false,
     "task": false
    }
   },
   "source": [
    "\n",
    "## Synatx `for x in`\n",
    "\n",
    "Die Variable zwischen den Schlüsselwörtern `for` und `in` ist nötig, der Name darf natürlich frei gewählt werden. In dieser Variable wird bei bei jedem Durchgang der aktuelle Wert gespeichert. Wir nenne diese Variable **Laufvariable**."
   ]
  },
  {
   "cell_type": "markdown",
   "id": "f1a7a829",
   "metadata": {
    "deletable": false,
    "editable": false,
    "nbgrader": {
     "cell_type": "markdown",
     "checksum": "c4e490e428a570f74750adf01900b667",
     "grade": false,
     "grade_id": "cell-7ecab8493d85350c",
     "locked": true,
     "schema_version": 3,
     "solution": false,
     "task": false
    }
   },
   "source": [
    "### Aufgabe:\n",
    "\n",
    "Schreibe folgende `while`-Schleife in eine `for`-Schleife um:\n",
    "```\n",
    "a = 0\n",
    "while a < 10:\n",
    "    print(a)\n",
    "    a = a + 1\n",
    "```"
   ]
  },
  {
   "cell_type": "code",
   "execution_count": null,
   "id": "5d04d08e",
   "metadata": {
    "deletable": false,
    "nbgrader": {
     "cell_type": "code",
     "checksum": "b800a2cd3b9cfff4fd9cd4eedd6d957c",
     "grade": true,
     "grade_id": "cell-b77afd67bea60864",
     "locked": false,
     "points": 0,
     "schema_version": 3,
     "solution": true,
     "task": false
    }
   },
   "outputs": [],
   "source": [
    "# YOUR CODE HERE\n",
    "raise NotImplementedError()"
   ]
  },
  {
   "cell_type": "markdown",
   "id": "b7f14514",
   "metadata": {
    "deletable": false,
    "editable": false,
    "nbgrader": {
     "cell_type": "markdown",
     "checksum": "ace483354633cd801490a53ef756fe8f",
     "grade": false,
     "grade_id": "cell-d6a5727e3dc6c1a1",
     "locked": true,
     "schema_version": 3,
     "solution": false,
     "task": false
    }
   },
   "source": [
    "## `for`-Schleife und Text\n",
    "\n",
    "Wir können die `for`-Schleife anstatt mit `range()` auch mit einer Textvariable verwenden. Dabei wird dann jeder einzelne Zeichen nacheinander in der Laufvariable gespeichert.\n",
    "\n",
    "### Beispiel:"
   ]
  },
  {
   "cell_type": "code",
   "execution_count": null,
   "id": "051d3805",
   "metadata": {
    "deletable": false,
    "editable": false,
    "nbgrader": {
     "cell_type": "code",
     "checksum": "0a9ce8d48e8cc52a5d479d264bb6262a",
     "grade": false,
     "grade_id": "cell-9124338d4dcb8c63",
     "locked": true,
     "schema_version": 3,
     "solution": false,
     "task": false
    }
   },
   "outputs": [],
   "source": [
    "text = \"Hallo Welt\"\n",
    "for zeichen in text:\n",
    "    print(zeichen)"
   ]
  },
  {
   "cell_type": "markdown",
   "id": "7aa97974",
   "metadata": {
    "deletable": false,
    "editable": false,
    "nbgrader": {
     "cell_type": "markdown",
     "checksum": "151ce6d04d0e753c92fd618468c2ec30",
     "grade": false,
     "grade_id": "cell-0a7c4faf40ec2d6c",
     "locked": true,
     "schema_version": 3,
     "solution": false,
     "task": false
    }
   },
   "source": [
    "### Aufgabe\n",
    "\n",
    "Die Benutzerin soll einen beliebigen Text eingeben können. Dieser soll danach Zeichen für Zeichen ausgegeben werden."
   ]
  },
  {
   "cell_type": "code",
   "execution_count": null,
   "id": "e52a9007",
   "metadata": {
    "deletable": false,
    "nbgrader": {
     "cell_type": "code",
     "checksum": "d01957258295c7e48a6b5e99458b09b8",
     "grade": true,
     "grade_id": "cell-053351caaca2260e",
     "locked": false,
     "points": 0,
     "schema_version": 3,
     "solution": true,
     "task": false
    }
   },
   "outputs": [],
   "source": [
    "# YOUR CODE HERE\n",
    "raise NotImplementedError()"
   ]
  }
 ],
 "metadata": {
  "kernelspec": {
   "display_name": "Python 3 (ipykernel)",
   "language": "python",
   "name": "python3"
  },
  "language_info": {
   "codemirror_mode": {
    "name": "ipython",
    "version": 3
   },
   "file_extension": ".py",
   "mimetype": "text/x-python",
   "name": "python",
   "nbconvert_exporter": "python",
   "pygments_lexer": "ipython3",
   "version": "3.8.9"
  }
 },
 "nbformat": 4,
 "nbformat_minor": 5
}
