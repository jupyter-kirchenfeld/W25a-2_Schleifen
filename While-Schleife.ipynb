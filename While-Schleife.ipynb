{
 "cells": [
  {
   "cell_type": "markdown",
   "id": "b29e5887",
   "metadata": {},
   "source": [
    "Before you turn this problem in, make sure everything runs as expected. First, **restart the kernel** (in the menubar, select Kernel$\\rightarrow$Restart) and then **run all cells** (in the menubar, select Cell$\\rightarrow$Run All).\n",
    "\n",
    "Make sure you fill in any place that says `YOUR CODE HERE` or \"YOUR ANSWER HERE\", as well as your name and collaborators below:"
   ]
  },
  {
   "cell_type": "code",
   "execution_count": null,
   "id": "6b2809e8",
   "metadata": {},
   "outputs": [],
   "source": [
    "NAME = \"\"\n",
    "COLLABORATORS = \"\""
   ]
  },
  {
   "cell_type": "markdown",
   "id": "8aa49712",
   "metadata": {},
   "source": [
    "---"
   ]
  },
  {
   "cell_type": "markdown",
   "id": "b7ff7ac1",
   "metadata": {
    "deletable": false,
    "editable": false,
    "nbgrader": {
     "cell_type": "markdown",
     "checksum": "ae3003046912ad24b37c701535b6a006",
     "grade": false,
     "grade_id": "cell-f6b1e8af97c6e9ee",
     "locked": true,
     "schema_version": 3,
     "solution": false,
     "task": false
    }
   },
   "source": [
    "# Schleifen\n",
    "\n",
    "## Die `while`-Schleife\n",
    "\n",
    "Soll ein Block von Anweisungen mehrmals wiederholt werden, verwendet man eine Schleife. Auch hier ist entscheidend, dass der gesamte Schleifeninhalt eingerückt wird (normalerweise um 4 Leerzeichen resp. 1 Tabulator).\n",
    "\n",
    "**Wichtig** Beachte, dass die Schleife wiederholt wird, solange (*while*) die Bedingung zutrifft.\n",
    "\n",
    "### Beispiel:\n",
    "\n",
    "Im folgenden Beispiel wird die Variable `a` mit `0` initialisiert und danach solange (*while*) ausgegeben (`print`) sowie um eins erhöht (`a = a + 1`) bis `a` grösser als `10` ist:"
   ]
  },
  {
   "cell_type": "code",
   "execution_count": null,
   "id": "8248bff9",
   "metadata": {
    "deletable": false,
    "editable": false,
    "nbgrader": {
     "cell_type": "code",
     "checksum": "1ec977b77a63691acc235bee36c9192d",
     "grade": false,
     "grade_id": "cell-31281a24e90ec191",
     "locked": true,
     "schema_version": 3,
     "solution": false,
     "task": false
    }
   },
   "outputs": [],
   "source": [
    "a = 0\n",
    "\n",
    "while a < 10:\n",
    "    print(a)\n",
    "    a = a + 1"
   ]
  },
  {
   "cell_type": "markdown",
   "id": "2c3ad651",
   "metadata": {
    "deletable": false,
    "editable": false,
    "nbgrader": {
     "cell_type": "markdown",
     "checksum": "4ff3f463280a6902ca99dca9dfa3c4cd",
     "grade": false,
     "grade_id": "cell-6a25753ccd077fdc",
     "locked": true,
     "schema_version": 3,
     "solution": false,
     "task": false
    }
   },
   "source": [
    "### Aufgabe:\n",
    "\n",
    "Wie oft wird die Schleife im Beispiel ausgeführt?"
   ]
  },
  {
   "cell_type": "markdown",
   "id": "3f3e7735",
   "metadata": {
    "deletable": false,
    "nbgrader": {
     "cell_type": "markdown",
     "checksum": "82152dc409e19214ab115778700305bc",
     "grade": true,
     "grade_id": "cell-c7ff0849ac52ecf4",
     "locked": false,
     "points": 0,
     "schema_version": 3,
     "solution": true,
     "task": false
    }
   },
   "source": [
    "YOUR ANSWER HERE"
   ]
  },
  {
   "cell_type": "markdown",
   "id": "d9fb1508",
   "metadata": {
    "deletable": false,
    "editable": false,
    "nbgrader": {
     "cell_type": "markdown",
     "checksum": "f699b52d6c879ff677fda5061a0a74a3",
     "grade": false,
     "grade_id": "cell-2b12baaa5ce98cd1",
     "locked": true,
     "schema_version": 3,
     "solution": false,
     "task": false
    }
   },
   "source": [
    "### Aufagbe:\n",
    "\n",
    "Es soll 10x der selbe Satz ausgegeben werden. Schreibe zuerst wie im vorherigen Beispiel in eine Markdown-Zelle (YOUR ANSWER HERE) was das Programm macht und danach den dazugehörigen Code (YOUR CODE HERE)."
   ]
  },
  {
   "cell_type": "markdown",
   "id": "0eed6e02",
   "metadata": {
    "deletable": false,
    "nbgrader": {
     "cell_type": "markdown",
     "checksum": "9754de5f44347afd0217074a6522790c",
     "grade": true,
     "grade_id": "cell-feff9a16d1ab2209",
     "locked": false,
     "points": 0,
     "schema_version": 3,
     "solution": true,
     "task": false
    }
   },
   "source": [
    "YOUR ANSWER HERE"
   ]
  },
  {
   "cell_type": "code",
   "execution_count": null,
   "id": "ba868d93",
   "metadata": {
    "deletable": false,
    "nbgrader": {
     "cell_type": "code",
     "checksum": "4c57ab4344d390b575c87a3b581c37ed",
     "grade": true,
     "grade_id": "cell-164c375b63593628",
     "locked": false,
     "points": 0,
     "schema_version": 3,
     "solution": true,
     "task": false
    }
   },
   "outputs": [],
   "source": [
    "ausgabe = \"Hallo Welt\"\n",
    "# YOUR CODE HERE\n",
    "raise NotImplementedError()"
   ]
  },
  {
   "cell_type": "markdown",
   "id": "4014d4f1",
   "metadata": {
    "deletable": false,
    "editable": false,
    "nbgrader": {
     "cell_type": "markdown",
     "checksum": "e8b0986c68041c8a29fc71600d026f73",
     "grade": false,
     "grade_id": "cell-1204247d12a223c8",
     "locked": true,
     "schema_version": 3,
     "solution": false,
     "task": false
    }
   },
   "source": [
    "### Aufagbe:\n",
    "\n",
    "Gib alle Zahlen von 1 bis 100 aus."
   ]
  },
  {
   "cell_type": "code",
   "execution_count": null,
   "id": "4f4a3b01",
   "metadata": {
    "deletable": false,
    "nbgrader": {
     "cell_type": "code",
     "checksum": "e16fd583263004a1357a2be71a71271a",
     "grade": true,
     "grade_id": "cell-f0263bd4fa1caa9f",
     "locked": false,
     "points": 0,
     "schema_version": 3,
     "solution": true,
     "task": false
    }
   },
   "outputs": [],
   "source": [
    "# YOUR CODE HERE\n",
    "raise NotImplementedError()"
   ]
  },
  {
   "cell_type": "markdown",
   "id": "048657b9",
   "metadata": {
    "deletable": false,
    "editable": false,
    "nbgrader": {
     "cell_type": "markdown",
     "checksum": "645d38f311613106f06553dd452b178a",
     "grade": false,
     "grade_id": "cell-cc7c36b2902bd5f8",
     "locked": true,
     "schema_version": 3,
     "solution": false,
     "task": false
    }
   },
   "source": [
    "### Aufgabe\n",
    "\n",
    "Nun wollen wir unser Wissen über Eingaben (`input()`) brauchen um der Nutzerin zu erlauben, die Anfangs- und Endzahl wählen zu können. Das Programm soll alle von der Anfangs- bis zur Endzahl ausgeben.\n",
    "\n",
    "**Tipp**: Verwende `int()` um einen Text-Eingabe in eine Zahl umzuwandeln."
   ]
  },
  {
   "cell_type": "code",
   "execution_count": null,
   "id": "0951376c",
   "metadata": {
    "deletable": false,
    "nbgrader": {
     "cell_type": "code",
     "checksum": "8826dc4c3a15b40f6fa49235e63b6ec2",
     "grade": true,
     "grade_id": "cell-8c613637bbbe484e",
     "locked": false,
     "points": 0,
     "schema_version": 3,
     "solution": true,
     "task": false
    }
   },
   "outputs": [],
   "source": [
    "print(\"Gib eine Zahl ein:\")\n",
    "start = 0 \n",
    "\n",
    "print(\"Gib eine (grössere) Zahl ein:\")\n",
    "ende = 1\n",
    "\n",
    "# YOUR CODE HERE\n",
    "raise NotImplementedError()"
   ]
  }
 ],
 "metadata": {
  "kernelspec": {
   "display_name": "Python 3 (ipykernel)",
   "language": "python",
   "name": "python3"
  },
  "language_info": {
   "codemirror_mode": {
    "name": "ipython",
    "version": 3
   },
   "file_extension": ".py",
   "mimetype": "text/x-python",
   "name": "python",
   "nbconvert_exporter": "python",
   "pygments_lexer": "ipython3",
   "version": "3.8.9"
  }
 },
 "nbformat": 4,
 "nbformat_minor": 5
}
